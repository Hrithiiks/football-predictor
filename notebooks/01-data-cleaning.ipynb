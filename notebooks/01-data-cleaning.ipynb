{
 "cells": [
  {
   "cell_type": "code",
   "execution_count": 10,
   "id": "f84877bb-6e7d-4138-b9e5-0157a97bc5ad",
   "metadata": {},
   "outputs": [
    {
     "name": "stdout",
     "output_type": "stream",
     "text": [
      "Loading and cleaning historical Kaggle data...\n",
      "Loading and cleaning recent API data...\n",
      "Loading and cleaning betting odds data...\n",
      "Combining all data sources...\n",
      "\\nSUCCESS! Clean master dataset with odds saved to: C:\\Users\\HRITHIK S\\MY PROJECTS\\football-predictor\\data\\processed\\matches_with_features.csv\n",
      "Total matches: 2660\n"
     ]
    }
   ],
   "source": [
    "import pandas as pd\n",
    "import os\n",
    "\n",
    "# --- 1. Load and Clean Historical Kaggle Data ---\n",
    "print(\"Loading and cleaning historical Kaggle data...\")\n",
    "kaggle_file_path = r\"C:\\Users\\HRITHIK S\\MY PROJECTS\\football-predictor\\data\\raw\\english_premier_league_2000-2025.csv\"\n",
    "df_kaggle = pd.read_csv(kaggle_file_path)\n",
    "df_kaggle_clean = df_kaggle[['Season', 'MatchDate', 'HomeTeam', 'AwayTeam', 'FullTimeHomeGoals', 'FullTimeAwayGoals', 'FullTimeResult']].copy()\n",
    "df_kaggle_clean.rename(columns={\n",
    "    'Season': 'season', 'MatchDate': 'date', 'HomeTeam': 'home_team', 'AwayTeam': 'away_team',\n",
    "    'FullTimeHomeGoals': 'home_goals', 'FullTimeAwayGoals': 'away_goals', 'FullTimeResult': 'result_short'\n",
    "}, inplace=True)\n",
    "df_kaggle_clean['result'] = df_kaggle_clean['result_short'].map({'H': 'HOME_TEAM', 'A': 'AWAY_TEAM', 'D': 'DRAW'})\n",
    "df_kaggle_clean.drop(columns=['result_short'], inplace=True)\n",
    "df_kaggle_clean['season'] = df_kaggle_clean['season'].apply(lambda x: int(x.split('/')[0]))\n",
    "df_kaggle_clean = df_kaggle_clean[df_kaggle_clean['season'] >= 2018]\n",
    "df_kaggle_clean['date'] = pd.to_datetime(df_kaggle_clean['date']).dt.tz_localize('UTC')\n",
    "\n",
    "# --- 2. Load and Clean Recent API Data ---\n",
    "print(\"Loading and cleaning recent API data...\")\n",
    "api_file_path = r\"C:\\Users\\HRITHIK S\\MY PROJECTS\\football-predictor\\data\\raw\\premier_league_matches.csv\"\n",
    "df_api = pd.read_csv(api_file_path)\n",
    "df_api['date'] = pd.to_datetime(df_api['date'])\n",
    "\n",
    "# --- 3. Load and Clean Betting Odds Data ---\n",
    "print(\"Loading and cleaning betting odds data...\")\n",
    "odds_file_path = r\"C:\\Users\\HRITHIK S\\MY PROJECTS\\football-predictor\\data\\raw\\all_avail_games.csv\"\n",
    "try:\n",
    "    df_odds_raw = pd.read_csv(odds_file_path, encoding='latin1')\n",
    "    df_odds = df_odds_raw[df_odds_raw['Div'] == 'E0'].copy()\n",
    "    odds_cols_to_keep = ['Date', 'HomeTeam', 'AwayTeam', 'B365H', 'B365D', 'B365A']\n",
    "    df_odds = df_odds[odds_cols_to_keep]\n",
    "    df_odds.rename(columns={\n",
    "    'HomeTeam': 'home_team', 'AwayTeam': 'away_team', 'Date': 'date',\n",
    "    'B365H': 'odds_home_win', 'B365D': 'odds_draw', 'B365A': 'odds_away_win'\n",
    "}, inplace=True)\n",
    "    df_odds['date'] = pd.to_datetime(df_odds['date']).dt.tz_localize('UTC')\n",
    "except FileNotFoundError:\n",
    "    print(f\"ERROR: Make sure the odds file is in your 'data/raw/' folder.\")\n",
    "    raise\n",
    "\n",
    "# --- 4. Combine All Datasets ---\n",
    "print(\"Combining all data sources...\")\n",
    "# First, combine the match results\n",
    "df_combined = pd.concat([df_kaggle_clean, df_api], ignore_index=True)\n",
    "df_combined.sort_values('date', inplace=True)\n",
    "df_combined.drop_duplicates(subset=['date', 'home_team', 'away_team'], keep='last', inplace=True)\n",
    "\n",
    "# Now, merge the combined results with the odds data\n",
    "df_final = pd.merge(df_combined, df_odds, on=['date', 'home_team', 'away_team'], how='left')\n",
    "\n",
    "# --- 5. Final Touches and Save ---\n",
    "df_final['target'] = df_final['result'].map({'HOME_TEAM': 1, 'DRAW': 0, 'AWAY_TEAM': 2})\n",
    "df_final.dropna(subset=['target'], inplace=True)\n",
    "df_final['target'] = df_final['target'].astype(int)\n",
    "\n",
    "# Fill any missing odds with 0 for now\n",
    "df_final.fillna(0, inplace=True)\n",
    "\n",
    "# Save to a new 'processed' file\n",
    "save_path = r\"C:\\Users\\HRITHIK S\\MY PROJECTS\\football-predictor\\data\\processed\\matches_with_features.csv\"\n",
    "os.makedirs(os.path.dirname(save_path), exist_ok=True)\n",
    "df_final.to_csv(save_path, index=False)\n",
    "\n",
    "print(f\"\\\\nSUCCESS! Clean master dataset with odds saved to: {save_path}\")\n",
    "print(f\"Total matches: {len(df_final)}\")"
   ]
  },
  {
   "cell_type": "code",
   "execution_count": null,
   "id": "6e8e75b2-80f8-4d11-afd5-3a7e80f342c7",
   "metadata": {},
   "outputs": [],
   "source": []
  }
 ],
 "metadata": {
  "kernelspec": {
   "display_name": "Python 3 (ipykernel)",
   "language": "python",
   "name": "python3"
  },
  "language_info": {
   "codemirror_mode": {
    "name": "ipython",
    "version": 3
   },
   "file_extension": ".py",
   "mimetype": "text/x-python",
   "name": "python",
   "nbconvert_exporter": "python",
   "pygments_lexer": "ipython3",
   "version": "3.10.15"
  }
 },
 "nbformat": 4,
 "nbformat_minor": 5
}
